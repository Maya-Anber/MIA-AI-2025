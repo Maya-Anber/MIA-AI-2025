{
 "cells": [
  {
   "cell_type": "code",
   "execution_count": 35,
   "id": "78db9f9a",
   "metadata": {},
   "outputs": [],
   "source": [
    "class Simple_Codec:\n",
    "    # Encodes a list of command strings into a single string and decodes it back\n",
    "    def __init__(self):\n",
    "        #a delimiter unlikely to appear in F1 commands\n",
    "        self.delimiter = \"|^-^|\"\n",
    "        \n",
    "    def encode(self, list_of_commands):\n",
    "        # Encodes a list of command strings into a single string using a delimiter.\n",
    "        return self.delimiter.join(list_of_commands)\n",
    "    \n",
    "    def decode(self, encoded_string):\n",
    "        # Decodes a single string back into the original list of commands.\n",
    "        return encoded_string.split(self.delimiter)"
   ]
  },
  {
   "cell_type": "code",
   "execution_count": 36,
   "id": "44101b52",
   "metadata": {},
   "outputs": [
    {
     "name": "stdout",
     "output_type": "stream",
     "text": [
      "Original commands: ['Push now', 'Box,box', 'Check temperatures', 'Overtake', '', 'P|ush']\n",
      "Encoded string: Push now|^-^|Box,box|^-^|Check temperatures|^-^|Overtake|^-^||^-^|P|ush\n",
      "Decoded commands: ['Push now', 'Box,box', 'Check temperatures', 'Overtake', '', 'P|ush']\n",
      "Verification:  Success\n"
     ]
    }
   ],
   "source": [
    "Simple_commands = [\"Push now\", \"Box,box\", \"Check temperatures\", \"Overtake\", \"\" , \"P|ush\"]\n",
    "\n",
    "# Create Codec instance\n",
    "Simple_codec = Simple_Codec()\n",
    "\n",
    "# Encode the commands\n",
    "print(\"Original commands:\", Simple_commands)\n",
    "encoded = Simple_codec.encode(Simple_commands)\n",
    "print(\"Encoded string:\", encoded)\n",
    "\n",
    "# Decode and verify\n",
    "decoded = Simple_codec.decode(encoded)\n",
    "print(\"Decoded commands:\", decoded)\n",
    "print(\"Verification: \", \"Success\" if decoded == Simple_commands else \"Failure\")"
   ]
  },
  {
   "cell_type": "code",
   "execution_count": 39,
   "id": "3888975c",
   "metadata": {},
   "outputs": [],
   "source": [
    "class Codec:\n",
    "    def __init__(self):\n",
    "        # Use delimiter and escape sequence \n",
    "        self.delimiter = \"|^-^|\"\n",
    "        self.escape_seq = \"*+*\"\n",
    "        \n",
    "    def encode(self, list_of_commands):\n",
    "        # Encode a list of commands into a single string with escape sequences\n",
    "         # If the list is empty, return an empty string \n",
    "        if not list_of_commands:\n",
    "            return \"\"\n",
    "        \n",
    "        # Escape the escape sequence and delimiter in each command and join with delimiter\n",
    "        escaped_commands = [\n",
    "            command.replace(self.escape_seq, self.escape_seq + self.escape_seq)\n",
    "                   .replace(self.delimiter, self.escape_seq + self.delimiter)\n",
    "            for command in list_of_commands\n",
    "        ]\n",
    "        return self.delimiter.join(escaped_commands)\n",
    "    \n",
    "    def decode(self, encoded_string):\n",
    "        # Decode the encoded string back into a list of commands\n",
    "        if not encoded_string:\n",
    "            return []\n",
    "        \n",
    "        result = []\n",
    "        current = []\n",
    "        i = 0\n",
    "        while i < len(encoded_string):\n",
    "            # Check for delimiter\n",
    "            if i + len(self.delimiter) <= len(encoded_string) and encoded_string[i:i+len(self.delimiter)] == self.delimiter:\n",
    "                result.append(\"\".join(current))\n",
    "                current = []\n",
    "                i += len(self.delimiter)\n",
    "            # Check for escape sequence\n",
    "            elif i + len(self.escape_seq) <= len(encoded_string) and encoded_string[i:i+len(self.escape_seq)] == self.escape_seq:\n",
    "                # Next characters are escaped; take the following character or sequence\n",
    "                i += len(self.escape_seq)\n",
    "                if i + len(self.delimiter) <= len(encoded_string) and encoded_string[i:i+len(self.delimiter)] == self.delimiter:\n",
    "                    current.append(self.delimiter)\n",
    "                    i += len(self.delimiter)\n",
    "                elif i + len(self.escape_seq) <= len(encoded_string) and encoded_string[i:i+len(self.escape_seq)] == self.escape_seq:\n",
    "                    current.append(self.escape_seq)\n",
    "                    i += len(self.escape_seq)\n",
    "                else:\n",
    "                    # Single character after escape sequence\n",
    "                    if i < len(encoded_string):\n",
    "                        current.append(encoded_string[i])\n",
    "                        i += 1\n",
    "            else:\n",
    "                # Regular character\n",
    "                current.append(encoded_string[i])\n",
    "                i += 1\n",
    "        \n",
    "        # Add the last command if exists\n",
    "        if current:\n",
    "            result.append(\"\".join(current))\n",
    "        \n",
    "        return result\n"
   ]
  },
  {
   "cell_type": "code",
   "execution_count": 41,
   "id": "01860173",
   "metadata": {},
   "outputs": [
    {
     "name": "stdout",
     "output_type": "stream",
     "text": [
      "Original commands: ['Push', 'Box,box', 'Push', 'Overtake', '', 'Check temps|^-^|cool', 'P*+*ush']\n",
      "Encoded string: Push|^-^|Box,box|^-^|Push|^-^|Overtake|^-^||^-^|Check temps*+*|^-^|cool|^-^|P*+**+*ush\n",
      "Decoded commands: ['Push', 'Box,box', 'Push', 'Overtake', '', 'Check temps|^-^|cool', 'P*+*ush']\n",
      "Verification:  Success\n"
     ]
    }
   ],
   "source": [
    "commands = [\"Push\", \"Box,box\", \"Push\", \"Overtake\", \"\", \"Check temps|^-^|cool\", \"P*+*ush\"]\n",
    "\n",
    "\n",
    "codec = Codec()\n",
    "\n",
    "# Encode the commands\n",
    "print(\"Original commands:\", commands)\n",
    "encoded = codec.encode(commands)\n",
    "print(\"Encoded string:\", encoded)\n",
    "\n",
    "# Decode and verify\n",
    "decoded = codec.decode(encoded)\n",
    "print(\"Decoded commands:\", decoded)\n",
    "\n",
    "# Verify the decoded list matches the original\n",
    "print(\"Verification: \", \"Success\" if decoded == commands else \"Failure\")"
   ]
  },
  {
   "cell_type": "code",
   "execution_count": null,
   "id": "02fbf02f",
   "metadata": {},
   "outputs": [],
   "source": []
  }
 ],
 "metadata": {
  "kernelspec": {
   "display_name": "Python 3",
   "language": "python",
   "name": "python3"
  },
  "language_info": {
   "codemirror_mode": {
    "name": "ipython",
    "version": 3
   },
   "file_extension": ".py",
   "mimetype": "text/x-python",
   "name": "python",
   "nbconvert_exporter": "python",
   "pygments_lexer": "ipython3",
   "version": "3.12.2"
  }
 },
 "nbformat": 4,
 "nbformat_minor": 5
}
